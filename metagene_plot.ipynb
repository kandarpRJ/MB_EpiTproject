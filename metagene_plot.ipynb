{
 "cells": [
  {
   "cell_type": "code",
   "execution_count": 1,
   "id": "4cf3f300-e480-424e-9404-fade0ffe7e89",
   "metadata": {},
   "outputs": [],
   "source": [
    "import pandas as pd\n",
    "from collections import defaultdict"
   ]
  },
  {
   "cell_type": "code",
   "execution_count": 4,
   "id": "7479884a-e163-4712-8df9-87339eb441bd",
   "metadata": {},
   "outputs": [],
   "source": [
    "gtf_file = \"/home/pereralab/ref/chm13v2.0_RefSeq_Liftoff_v5.2.gff3\""
   ]
  },
  {
   "cell_type": "code",
   "execution_count": null,
   "id": "db64fe91-8567-4c2f-b801-9b6c9034a3e8",
   "metadata": {},
   "outputs": [],
   "source": [
    "def parse_gtf(gtf_file):\n",
    "    transcripts = defaultdict(lambda: {\n",
    "        \"exons\": [],\n",
    "        \"cds\": []\n",
    "    })\n",
    "\n",
    "    with open(gtf_file, 'r') as f:\n",
    "        for line in f:\n",
    "            if line.startswith(\"#\"):\n",
    "                continue\n",
    "            fields = line.strip().split('\\t')\n",
    "            feature_type = fields[2]\n",
    "            chrom = fields[0]\n",
    "            start = int(fields[3])\n",
    "            end = int(fields[4])\n",
    "            strand = fields[6]\n",
    "            attributes = fields[8]\n",
    "\n",
    "            # Extract transcript_id and gene_id\n",
    "            attr_dict = {\n",
    "                item.split('=')[0]: item.split('=')[1]\n",
    "                for item in attributes.split(';') if '=' in item\n",
    "            }\n",
    "            transcript_id = attr_dict.get(\"transcript_id\")\n",
    "\n",
    "            if feature_type == \"exon\" and transcript_id:\n",
    "                transcripts[transcript_id][\"exons\"].append((chrom, start, end, strand))\n",
    "            elif feature_type == \"CDS\" and transcript_id:\n",
    "                transcripts[transcript_id][\"cds\"].append((chrom, start, end, strand))\n",
    "\n",
    "    regions = {\n",
    "        \"5UTR\": [],\n",
    "        \"CDS\": [],\n",
    "        \"3UTR\": []\n",
    "    }\n",
    "\n",
    "    # Split regions into 5' UTR, CDS, and 3' UTR\n",
    "    for transcript_id, features in transcripts.items():\n",
    "        exons = sorted(features[\"exons\"], key=lambda x: x[1])  # Sort by start position\n",
    "        cds = sorted(features[\"cds\"], key=lambda x: x[1])      # Sort by start position\n",
    "\n",
    "        if not exons or not cds:\n",
    "            continue\n",
    "\n",
    "        chrom, strand = exons[0][0], exons[0][3]\n",
    "\n",
    "        if strand == \"+\":\n",
    "            five_utr = [(chrom, exon[1], min(exon[2], cds[0][1] - 1), strand) for exon in exons if exon[2] < cds[0][1]]\n",
    "            cds_region = [(chrom, max(exon[1], cds[0][1]), min(exon[2], cds[-1][2]), strand) for exon in exons if exon[1] <= cds[-1][2] and exon[2] >= cds[0][1]]\n",
    "            three_utr = [(chrom, max(exon[1], cds[-1][2] + 1), exon[2], strand) for exon in exons if exon[1] > cds[-1][2]]\n",
    "        else:\n",
    "            five_utr = [(chrom, max(exon[1], cds[-1][2] + 1), exon[2], strand) for exon in exons if exon[1] > cds[-1][2]]\n",
    "            cds_region = [(chrom, max(exon[1], cds[0][1]), min(exon[2], cds[-1][2]), strand) for exon in exons if exon[1] <= cds[-1][2] and exon[2] >= cds[0][1]]\n",
    "            three_utr = [(chrom, exon[1], min(exon[2], cds[0][1] - 1), strand) for exon in exons if exon[2] < cds[0][1]]\n",
    "\n",
    "        regions[\"5UTR\"].extend(five_utr)\n",
    "        regions[\"CDS\"].extend(cds_region)\n",
    "        regions[\"3UTR\"].extend(three_utr)\n",
    "\n",
    "    return regions"
   ]
  },
  {
   "cell_type": "code",
   "execution_count": null,
   "id": "8286bd40-f701-42c4-bce0-cd9db16e45e5",
   "metadata": {},
   "outputs": [],
   "source": [
    "regions = parse_gtf(gtf_file)\n",
    "regions"
   ]
  },
  {
   "cell_type": "raw",
   "id": "192568ae-61ea-4ee3-91cd-ed9a221d07dd",
   "metadata": {},
   "source": []
  },
  {
   "cell_type": "code",
   "execution_count": 7,
   "id": "dbae7f61-bb48-47ce-bdaf-b93578d944a1",
   "metadata": {},
   "outputs": [
    {
     "name": "stdout",
     "output_type": "stream",
     "text": [
      "LOC124900618\n"
     ]
    },
    {
     "ename": "NameError",
     "evalue": "name 'transcript_id' is not defined",
     "output_type": "error",
     "traceback": [
      "\u001b[0;31m---------------------------------------------------------------------------\u001b[0m",
      "\u001b[0;31mNameError\u001b[0m                                 Traceback (most recent call last)",
      "Cell \u001b[0;32mIn[7], line 22\u001b[0m\n\u001b[1;32m     19\u001b[0m \u001b[38;5;28;01mif\u001b[39;00m feature_type \u001b[38;5;241m==\u001b[39m \u001b[38;5;124m\"\u001b[39m\u001b[38;5;124mtranscript\u001b[39m\u001b[38;5;124m\"\u001b[39m:\n\u001b[1;32m     20\u001b[0m     transcript_id \u001b[38;5;241m=\u001b[39m attr_dict\u001b[38;5;241m.\u001b[39mget(\u001b[38;5;124m\"\u001b[39m\u001b[38;5;124mID\u001b[39m\u001b[38;5;124m\"\u001b[39m)\n\u001b[0;32m---> 22\u001b[0m \u001b[38;5;28;01mif\u001b[39;00m \u001b[43mtranscript_id\u001b[49m \u001b[38;5;129;01mnot\u001b[39;00m \u001b[38;5;129;01min\u001b[39;00m transcripts:\n\u001b[1;32m     23\u001b[0m     transcripts[transcript_id] \u001b[38;5;241m=\u001b[39m {\u001b[38;5;124m\"\u001b[39m\u001b[38;5;124mexons\u001b[39m\u001b[38;5;124m\"\u001b[39m: [], \u001b[38;5;124m\"\u001b[39m\u001b[38;5;124mcds\u001b[39m\u001b[38;5;124m\"\u001b[39m: []}\n\u001b[1;32m     25\u001b[0m \u001b[38;5;28;01mif\u001b[39;00m feature_type \u001b[38;5;241m==\u001b[39m \u001b[38;5;124m\"\u001b[39m\u001b[38;5;124mexon\u001b[39m\u001b[38;5;124m\"\u001b[39m \u001b[38;5;129;01mand\u001b[39;00m transcript_id:\n",
      "\u001b[0;31mNameError\u001b[0m: name 'transcript_id' is not defined"
     ]
    }
   ],
   "source": [
    "transcripts = {}\n",
    "\n",
    "with open(gtf_file, 'r') as f:\n",
    "    for line in f:\n",
    "        if line.startswith(\"#\"):\n",
    "            continue\n",
    "        fields = line.strip().split('\\t')\n",
    "        feature_type = fields[2]\n",
    "        chrom = fields[0]\n",
    "        start = int(fields[3])\n",
    "        end = int(fields[4])\n",
    "        strand = fields[6]\n",
    "        attributes = fields[8]\n",
    "        attr_dict = {\n",
    "            item.split('=')[0]: item.split('=')[1]\n",
    "            for item in attributes.split(';') if '=' in item\n",
    "        }\n",
    "\n",
    "        if feature_type == \"transcript\":\n",
    "            transcript_id = attr_dict.get(\"ID\")\n",
    "        \n",
    "        if transcript_id not in transcripts:\n",
    "            transcripts[transcript_id] = {\"exons\": [], \"cds\": []}\n",
    "            \n",
    "        if feature_type == \"exon\" and transcript_id:\n",
    "            transcripts[transcript_id][\"exons\"].append((chrom, start, end, strand, exon_number))\n",
    "        elif feature_type == \"CDS\" and transcript_id:\n",
    "            transcripts[transcript_id][\"cds\"].append((chrom, start, end, strand, exon_number))\n",
    "\n",
    "utr_cds_positions = {\"5UTR\": [], \"CDS\": [], \"3UTR\": []}\n",
    "\n",
    "for transcript_id, features in transcripts.items():\n",
    "    exons = sorted(features[\"exons\"], key=lambda x: x[0])\n",
    "    cds = sorted(features[\"cds\"], key=lambda x: x[0])\n",
    "\n",
    "    if not exons or not cds:\n",
    "        continue\n",
    "\n",
    "    # Determine UTR and CDS regions\n",
    "    five_utr, cds_region, three_utr = [], [], []\n",
    "    if strand == \"+\":\n",
    "        five_utr = [(chrom, exon[0], min(exon[1], cds[0][0] - 1)) for exon in exons if exon[1] < cds[0][0]]\n",
    "        cds_region = cds\n",
    "        three_utr = [(chrom, max(exon[0], cds[-1][1] + 1), exon[1]) for exon in exons if exon[0] > cds[-1][1]]\n",
    "    else:\n",
    "        five_utr = [(chrom, max(exon[0], cds[-1][1] + 1), exon[1]) for exon in exons if exon[0] > cds[-1][1]]\n",
    "        cds_region = cds\n",
    "        three_utr = [(chrom, exon[0], min(exon[1], cds[0][0] - 1)) for exon in exons if exon[1] < cds[0][0]]\n",
    "\n",
    "    utr_cds_positions[\"5UTR\"].extend(five_utr)\n",
    "    utr_cds_positions[\"CDS\"].extend(cds_region)\n",
    "    utr_cds_positions[\"3UTR\"].extend(three_utr)\n",
    "\n",
    "x = list(utr_cds_positions.keys())\n",
    "print (transcripts['XR_002958507.2'])"
   ]
  },
  {
   "cell_type": "code",
   "execution_count": null,
   "id": "4322c806-96e8-4e2b-816e-355d9c538213",
   "metadata": {},
   "outputs": [],
   "source": []
  }
 ],
 "metadata": {
  "kernelspec": {
   "display_name": "Python 3 (ipykernel)",
   "language": "python",
   "name": "python3"
  },
  "language_info": {
   "codemirror_mode": {
    "name": "ipython",
    "version": 3
   },
   "file_extension": ".py",
   "mimetype": "text/x-python",
   "name": "python",
   "nbconvert_exporter": "python",
   "pygments_lexer": "ipython3",
   "version": "3.12.6"
  }
 },
 "nbformat": 4,
 "nbformat_minor": 5
}
