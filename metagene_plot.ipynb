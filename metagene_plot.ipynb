{
 "cells": [
  {
   "cell_type": "code",
   "execution_count": 15,
   "id": "4cf3f300-e480-424e-9404-fade0ffe7e89",
   "metadata": {},
   "outputs": [],
   "source": [
    "import pandas as pd\n",
    "from collections import defaultdict"
   ]
  },
  {
   "cell_type": "code",
   "execution_count": 16,
   "id": "7479884a-e163-4712-8df9-87339eb441bd",
   "metadata": {},
   "outputs": [],
   "source": [
    "gtf_file = \"/Users/kandarpjoshi/ref/chm13v2.0_RefSeq_Liftoff_v5.2.gff3\""
   ]
  },
  {
   "cell_type": "code",
   "execution_count": 33,
   "id": "db64fe91-8567-4c2f-b801-9b6c9034a3e8",
   "metadata": {},
   "outputs": [],
   "source": [
    "def parse_gtf(gtf_file):\n",
    "    transcripts = defaultdict(lambda: {\n",
    "        \"exons\": [],\n",
    "        \"cds\": []\n",
    "    })\n",
    "\n",
    "    with open(gtf_file, 'r') as f:\n",
    "        for line in f:\n",
    "            if line.startswith(\"#\"):\n",
    "                continue\n",
    "            fields = line.strip().split('\\t')\n",
    "            feature_type = fields[2]\n",
    "            chrom = fields[0]\n",
    "            start = int(fields[3])\n",
    "            end = int(fields[4])\n",
    "            strand = fields[6]\n",
    "            attributes = fields[8]\n",
    "\n",
    "            # Extract transcript_id and gene_id\n",
    "            attr_dict = {\n",
    "                item.split('=')[0]: item.split('=')[1]\n",
    "                for item in attributes.split(';') if '=' in item\n",
    "            }\n",
    "            transcript_id = attr_dict.get(\"transcript_id\")\n",
    "\n",
    "            if feature_type == \"exon\" and transcript_id:\n",
    "                transcripts[transcript_id][\"exons\"].append((chrom, start, end, strand))\n",
    "            elif feature_type == \"CDS\" and transcript_id:\n",
    "                transcripts[transcript_id][\"cds\"].append((chrom, start, end, strand))\n",
    "\n",
    "    regions = {\n",
    "        \"5UTR\": [],\n",
    "        \"CDS\": [],\n",
    "        \"3UTR\": []\n",
    "    }\n",
    "\n",
    "    # Split regions into 5' UTR, CDS, and 3' UTR\n",
    "    for transcript_id, features in transcripts.items():\n",
    "        exons = sorted(features[\"exons\"], key=lambda x: x[1])  # Sort by start position\n",
    "        cds = sorted(features[\"cds\"], key=lambda x: x[1])      # Sort by start position\n",
    "\n",
    "        if not exons or not cds:\n",
    "            continue\n",
    "\n",
    "        chrom, strand = exons[0][0], exons[0][3]\n",
    "\n",
    "        if strand == \"+\":\n",
    "            five_utr = [(chrom, exon[1], min(exon[2], cds[0][1] - 1), strand) for exon in exons if exon[2] < cds[0][1]]\n",
    "            cds_region = [(chrom, max(exon[1], cds[0][1]), min(exon[2], cds[-1][2]), strand) for exon in exons if exon[1] <= cds[-1][2] and exon[2] >= cds[0][1]]\n",
    "            three_utr = [(chrom, max(exon[1], cds[-1][2] + 1), exon[2], strand) for exon in exons if exon[1] > cds[-1][2]]\n",
    "        else:\n",
    "            five_utr = [(chrom, max(exon[1], cds[-1][2] + 1), exon[2], strand) for exon in exons if exon[1] > cds[-1][2]]\n",
    "            cds_region = [(chrom, max(exon[1], cds[0][1]), min(exon[2], cds[-1][2]), strand) for exon in exons if exon[1] <= cds[-1][2] and exon[2] >= cds[0][1]]\n",
    "            three_utr = [(chrom, exon[1], min(exon[2], cds[0][1] - 1), strand) for exon in exons if exon[2] < cds[0][1]]\n",
    "\n",
    "        regions[\"5UTR\"].extend(five_utr)\n",
    "        regions[\"CDS\"].extend(cds_region)\n",
    "        regions[\"3UTR\"].extend(three_utr)\n",
    "\n",
    "    return regions"
   ]
  },
  {
   "cell_type": "code",
   "execution_count": 34,
   "id": "8286bd40-f701-42c4-bce0-cd9db16e45e5",
   "metadata": {},
   "outputs": [
    {
     "data": {
      "text/plain": [
       "{'5UTR': [], 'CDS': [], '3UTR': []}"
      ]
     },
     "execution_count": 34,
     "metadata": {},
     "output_type": "execute_result"
    }
   ],
   "source": [
    "regions = parse_gtf(gtf_file)\n",
    "regions"
   ]
  },
  {
   "cell_type": "raw",
   "id": "192568ae-61ea-4ee3-91cd-ed9a221d07dd",
   "metadata": {},
   "source": []
  },
  {
   "cell_type": "code",
   "execution_count": 101,
   "id": "dbae7f61-bb48-47ce-bdaf-b93578d944a1",
   "metadata": {},
   "outputs": [
    {
     "name": "stdout",
     "output_type": "stream",
     "text": [
      "['NR_110561.1_1']\n"
     ]
    }
   ],
   "source": [
    "transcripts = {}\n",
    "\n",
    "with open(gtf_file, 'r') as f:\n",
    "    for line in f:\n",
    "        if line.startswith(\"#\"):\n",
    "            continue\n",
    "        fields = line.strip().split('\\t')\n",
    "        feature_type = fields[2]\n",
    "        chrom = fields[0]\n",
    "        start = int(fields[3])\n",
    "        end = int(fields[4])\n",
    "        strand = fields[6]\n",
    "        attributes = fields[8]\n",
    "        attr = {\n",
    "            item.split('=')[0]: item.split('=')[1]\n",
    "            for item in attributes.split(';') if '=' in item\n",
    "        }\n",
    "        transcript_id = attr_dict.get(\"ID\")\n",
    "        if transcript_id not in transcripts:\n",
    "            transcripts[transcript_id] = {\"exons\": [], \"cds\": []}\n",
    "            \n",
    "        if feature_type == \"exon\" and transcript_id:\n",
    "            transcripts[transcript_id][\"exons\"].append((chrom, start, end, strand))\n",
    "        elif feature_type == \"CDS\" and transcript_id:\n",
    "            transcripts[transcript_id][\"cds\"].append((chrom, start, end, strand))\n",
    "\n",
    "x = list(transcripts.keys())\n",
    "print (x)"
   ]
  }
 ],
 "metadata": {
  "kernelspec": {
   "display_name": "Python 3 (ipykernel)",
   "language": "python",
   "name": "python3"
  },
  "language_info": {
   "codemirror_mode": {
    "name": "ipython",
    "version": 3
   },
   "file_extension": ".py",
   "mimetype": "text/x-python",
   "name": "python",
   "nbconvert_exporter": "python",
   "pygments_lexer": "ipython3",
   "version": "3.12.7"
  }
 },
 "nbformat": 4,
 "nbformat_minor": 5
}
