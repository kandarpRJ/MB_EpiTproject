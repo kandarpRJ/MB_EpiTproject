{
 "cells": [
  {
   "cell_type": "code",
   "execution_count": 27,
   "id": "4cf3f300-e480-424e-9404-fade0ffe7e89",
   "metadata": {},
   "outputs": [],
   "source": [
    "import pandas as pd\n",
    "from collections import defaultdict"
   ]
  },
  {
   "cell_type": "code",
   "execution_count": 40,
   "id": "7479884a-e163-4712-8df9-87339eb441bd",
   "metadata": {},
   "outputs": [],
   "source": [
    "#gtf_file = \"/Users/kandarpjoshi/ref/chm13v2.0_RefSeq_Liftoff_v5.2.gff3\"\n",
    "gtf_file = \"/Users/kandarpjoshi/ref/temp.gff3\""
   ]
  },
  {
   "cell_type": "code",
   "execution_count": null,
   "id": "db64fe91-8567-4c2f-b801-9b6c9034a3e8",
   "metadata": {},
   "outputs": [],
   "source": [
    "def parse_gtf(gtf_file):\n",
    "    transcripts = defaultdict(lambda: {\n",
    "        \"exons\": [],\n",
    "        \"cds\": []\n",
    "    })\n",
    "\n",
    "    with open(gtf_file, 'r') as f:\n",
    "        for line in f:\n",
    "            if line.startswith(\"#\"):\n",
    "                continue\n",
    "            fields = line.strip().split('\\t')\n",
    "            feature_type = fields[2]\n",
    "            chrom = fields[0]\n",
    "            start = int(fields[3])\n",
    "            end = int(fields[4])\n",
    "            strand = fields[6]\n",
    "            attributes = fields[8]\n",
    "\n",
    "            # Extract transcript_id and gene_id\n",
    "            attr_dict = {\n",
    "                item.split('=')[0]: item.split('=')[1]\n",
    "                for item in attributes.split(';') if '=' in item\n",
    "            }\n",
    "            transcript_id = attr_dict.get(\"transcript_id\")\n",
    "\n",
    "            if feature_type == \"exon\" and transcript_id:\n",
    "                transcripts[transcript_id][\"exons\"].append((chrom, start, end, strand))\n",
    "            elif feature_type == \"CDS\" and transcript_id:\n",
    "                transcripts[transcript_id][\"cds\"].append((chrom, start, end, strand))\n",
    "\n",
    "    regions = {\n",
    "        \"5UTR\": [],\n",
    "        \"CDS\": [],\n",
    "        \"3UTR\": []\n",
    "    }\n",
    "\n",
    "    # Split regions into 5' UTR, CDS, and 3' UTR\n",
    "    for transcript_id, features in transcripts.items():\n",
    "        exons = sorted(features[\"exons\"], key=lambda x: x[1])  # Sort by start position\n",
    "        cds = sorted(features[\"cds\"], key=lambda x: x[1])      # Sort by start position\n",
    "\n",
    "        if not exons or not cds:\n",
    "            continue\n",
    "\n",
    "        chrom, strand = exons[0][0], exons[0][3]\n",
    "\n",
    "        if strand == \"+\":\n",
    "            five_utr = [(chrom, exon[1], min(exon[2], cds[0][1] - 1), strand) for exon in exons if exon[2] < cds[0][1]]\n",
    "            cds_region = [(chrom, max(exon[1], cds[0][1]), min(exon[2], cds[-1][2]), strand) for exon in exons if exon[1] <= cds[-1][2] and exon[2] >= cds[0][1]]\n",
    "            three_utr = [(chrom, max(exon[1], cds[-1][2] + 1), exon[2], strand) for exon in exons if exon[1] > cds[-1][2]]\n",
    "        else:\n",
    "            five_utr = [(chrom, max(exon[1], cds[-1][2] + 1), exon[2], strand) for exon in exons if exon[1] > cds[-1][2]]\n",
    "            cds_region = [(chrom, max(exon[1], cds[0][1]), min(exon[2], cds[-1][2]), strand) for exon in exons if exon[1] <= cds[-1][2] and exon[2] >= cds[0][1]]\n",
    "            three_utr = [(chrom, exon[1], min(exon[2], cds[0][1] - 1), strand) for exon in exons if exon[2] < cds[0][1]]\n",
    "\n",
    "        regions[\"5UTR\"].extend(five_utr)\n",
    "        regions[\"CDS\"].extend(cds_region)\n",
    "        regions[\"3UTR\"].extend(three_utr)\n",
    "\n",
    "    return regions"
   ]
  },
  {
   "cell_type": "code",
   "execution_count": null,
   "id": "8286bd40-f701-42c4-bce0-cd9db16e45e5",
   "metadata": {},
   "outputs": [],
   "source": [
    "regions = parse_gtf(gtf_file)\n",
    "regions"
   ]
  },
  {
   "cell_type": "raw",
   "id": "192568ae-61ea-4ee3-91cd-ed9a221d07dd",
   "metadata": {},
   "source": []
  },
  {
   "cell_type": "code",
   "execution_count": 86,
   "id": "dbae7f61-bb48-47ce-bdaf-b93578d944a1",
   "metadata": {},
   "outputs": [],
   "source": [
    "transcripts = {}\n",
    "\n",
    "with open(gtf_file, 'r') as f:\n",
    "    for line in f:\n",
    "        if line.startswith(\"#\"):\n",
    "            continue\n",
    "        fields = line.strip().split('\\t')\n",
    "        feature_type = fields[2]\n",
    "        chrom = fields[0]\n",
    "        start = int(fields[3])\n",
    "        end = int(fields[4])\n",
    "        strand = fields[6]\n",
    "        attributes = fields[8]\n",
    "        attr_dict = {\n",
    "            item.split('=')[0]: item.split('=')[1]\n",
    "            for item in attributes.split(';') if '=' in item\n",
    "        }\n",
    "\n",
    "        if feature_type == \"transcript\":\n",
    "            transcript_id = attr_dict.get(\"ID\")\n",
    "        \n",
    "        if transcript_id not in transcripts:\n",
    "            transcripts[transcript_id] = {\"exons\": [], \"cds\": []}\n",
    "            \n",
    "        if feature_type == \"exon\" and transcript_id:\n",
    "            transcripts[transcript_id][\"exons\"].append((chrom, start, end, strand))\n",
    "        elif feature_type == \"CDS\" and transcript_id:\n",
    "            transcripts[transcript_id][\"cds\"].append((chrom, start, end, strand))\n",
    "\n"
   ]
  },
  {
   "cell_type": "code",
   "execution_count": 87,
   "id": "3997fc64-460d-4d59-a91b-b9e985ca0077",
   "metadata": {},
   "outputs": [
    {
     "name": "stdout",
     "output_type": "stream",
     "text": [
      "{'exons': [('chr1', 256770, 256821, '+'), ('chr1', 257974, 258075, '+'), ('chr1', 280896, 281079, '+'), ('chr1', 281640, 281735, '+'), ('chr1', 282360, 288416, '+')], 'cds': []}\n"
     ]
    }
   ],
   "source": [
    "x = transcripts.keys()\n",
    "print (transcripts['NR_047525.1'])"
   ]
  },
  {
   "cell_type": "code",
   "execution_count": 101,
   "id": "8ac4c109-412c-4fb3-ab7d-03f878e84e12",
   "metadata": {},
   "outputs": [],
   "source": [
    "utr_cds_positions = {\"5UTR\": [], \"CDS\": [], \"3UTR\": []}\n",
    "\n",
    "for transcript_id, features in transcripts.items():\n",
    "    exons = sorted(features[\"exons\"], key=lambda x: x[0])\n",
    "    cds = sorted(features[\"cds\"], key=lambda x: x[0])\n",
    "    \n",
    "    if not cds:\n",
    "        for exon in exons:\n",
    "            cds_region = [(chrom, exon[1], exon[2], exon[3])]\n",
    "        continue\n",
    "    \n",
    "    # Determine UTR and CDS regions\n",
    "    five_utr, cds_region, three_utr = [], [], []\n",
    "    if strand == \"+\":\n",
    "        five_utr = [(chrom, exon[1], min(exon[2], cds[0][1] - 1)) for exon in exons if exon[1] < cds[0][1]]\n",
    "        cds_region = cds\n",
    "        three_utr = [(chrom, max(exon[1], cds[-1][1] + 1), exon[2]) for exon in exons if exon[1] > cds[-1][1]]\n",
    "    else:\n",
    "        five_utr = [(chrom, max(exon[1], cds[-1][1] + 1), exon[2]) for exon in exons if exon[1] > cds[-1][1]]\n",
    "        cds_region = cds\n",
    "        three_utr = [(chrom, exon[1], min(exon[2], cds[0][1] - 1)) for exon in exons if exon[1] < cds[0][1]]\n",
    "\n",
    "    utr_cds_positions[\"5UTR\"].extend(five_utr)\n",
    "    utr_cds_positions[\"CDS\"].extend(cds_region)\n",
    "    utr_cds_positions[\"3UTR\"].extend(three_utr)"
   ]
  },
  {
   "cell_type": "code",
   "execution_count": 102,
   "id": "4322c806-96e8-4e2b-816e-355d9c538213",
   "metadata": {},
   "outputs": [
    {
     "data": {
      "text/plain": [
       "{'5UTR': [('chr1', 20529, 20949)],\n",
       " 'CDS': [('chr1', 20950, 21087, '-'),\n",
       "  ('chr1', 28447, 28626, '-'),\n",
       "  ('chr1', 34958, 35059, '-'),\n",
       "  ('chr1', 36086, 37081, '-'),\n",
       "  ('chr1', 37443, 37628, '-'),\n",
       "  ('chr1', 111940, 112473, '-')],\n",
       " '3UTR': []}"
      ]
     },
     "execution_count": 102,
     "metadata": {},
     "output_type": "execute_result"
    }
   ],
   "source": [
    "utr_cds_positions"
   ]
  }
 ],
 "metadata": {
  "kernelspec": {
   "display_name": "Python 3 (ipykernel)",
   "language": "python",
   "name": "python3"
  },
  "language_info": {
   "codemirror_mode": {
    "name": "ipython",
    "version": 3
   },
   "file_extension": ".py",
   "mimetype": "text/x-python",
   "name": "python",
   "nbconvert_exporter": "python",
   "pygments_lexer": "ipython3",
   "version": "3.12.7"
  }
 },
 "nbformat": 4,
 "nbformat_minor": 5
}
